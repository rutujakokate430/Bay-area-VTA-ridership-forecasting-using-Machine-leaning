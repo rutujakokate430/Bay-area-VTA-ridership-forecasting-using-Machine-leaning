{
 "cells": [
  {
   "cell_type": "code",
   "execution_count": 1,
   "metadata": {},
   "outputs": [],
   "source": [
    "import polars as pl\n",
    "import os"
   ]
  },
  {
   "cell_type": "code",
   "execution_count": 2,
   "metadata": {},
   "outputs": [],
   "source": [
    "STAGING_DATA_FOLDER = \"staging_data\"\n",
    "CLEAN_DATA_FOLDER = \"clean_data\""
   ]
  },
  {
   "cell_type": "code",
   "execution_count": 3,
   "metadata": {},
   "outputs": [],
   "source": [
    "ridership = pl.scan_csv(os.path.join(STAGING_DATA_FOLDER, \"ridership.csv\"))\n",
    "climate = pl.scan_csv(os.path.join(STAGING_DATA_FOLDER, \"climate.csv\"))\n",
    "stops = pl.scan_csv(os.path.join(STAGING_DATA_FOLDER, \"stops.csv\"))\n",
    "dates = (\n",
    "    pl.scan_csv(os.path.join(STAGING_DATA_FOLDER, \"dates.csv\"))\n",
    "    .with_columns(\n",
    "        pl.col(\"id\")\n",
    "        .cast(pl.Utf8)\n",
    "        .str.strptime(pl.Date, \"%Y%m%d\")\n",
    "        .cast(pl.String)\n",
    "        .alias(\"Date\")\n",
    "    )\n",
    "    .select([\"Date\"])\n",
    ")"
   ]
  },
  {
   "cell_type": "code",
   "execution_count": 4,
   "metadata": {},
   "outputs": [],
   "source": [
    "stops_with_dates = dates.join(stops, how=\"cross\")"
   ]
  },
  {
   "cell_type": "code",
   "execution_count": 5,
   "metadata": {},
   "outputs": [],
   "source": [
    "def distance(lat1, long1, lat2, long2):\n",
    "    return ((lat1 - lat2) ** 2 + (long1 - long2) ** 2) ** 0.5"
   ]
  },
  {
   "cell_type": "code",
   "execution_count": 6,
   "metadata": {},
   "outputs": [],
   "source": [
    "stops_with_dates_and_climate = (\n",
    "    stops_with_dates.join(climate, on=\"Date\", suffix=\"_station\")\n",
    "    .with_columns(\n",
    "        [\n",
    "            distance(\n",
    "                pl.col(\"Latitude\"),\n",
    "                pl.col(\"Longitude\"),\n",
    "                pl.col(\"Latitude_station\"),\n",
    "                pl.col(\"Longitude_station\"),\n",
    "            ).alias(\"Distance\")\n",
    "        ]\n",
    "    )\n",
    "    .sort([\"Stop Id\", \"Date\", \"Latitude\", \"Longitude\", \"Distance\"])\n",
    "    .group_by([\"Stop Id\", \"Date\", \"Latitude\", \"Longitude\"], maintain_order=True)\n",
    "    .first()\n",
    "    .select([\"Stop Id\", \"Date\", \"Latitude\", \"Longitude\", \"Tmax\", \"Tmin\", \"Prcp\"])\n",
    ")"
   ]
  },
  {
   "cell_type": "code",
   "execution_count": 7,
   "metadata": {},
   "outputs": [],
   "source": [
    "ridership = (\n",
    "    ridership.join(stops_with_dates_and_climate, on=[\"Date\", \"Stop Id\"], how=\"left\")\n",
    "    .with_columns(pl.col(\"Date\").cast(pl.Date))\n",
    "    .with_columns(\n",
    "        pl.col(\"Date\").dt.year().alias(\"Year\"),\n",
    "        pl.col(\"Date\").dt.ordinal_day().alias(\"Day\"),\n",
    "    )\n",
    "    .drop(\"Date\")\n",
    "    .select(\n",
    "        [\n",
    "            \"Year\",\n",
    "            \"Day\",\n",
    "            \"Line\",\n",
    "            \"Service\",\n",
    "            \"Direction Number\",\n",
    "            \"Sequence\",\n",
    "            \"Latitude\",\n",
    "            \"Longitude\",\n",
    "            \"Tmax\",\n",
    "            \"Tmin\",\n",
    "            \"Prcp\",\n",
    "            \"On\",\n",
    "            \"Off\",\n",
    "        ]\n",
    "    )\n",
    ")"
   ]
  },
  {
   "cell_type": "code",
   "execution_count": 8,
   "metadata": {},
   "outputs": [],
   "source": [
    "ridership.collect(streaming=True).write_csv(\n",
    "    os.path.join(CLEAN_DATA_FOLDER, \"ridership.csv\")\n",
    ")"
   ]
  }
 ],
 "metadata": {
  "kernelspec": {
   "display_name": "Python 3",
   "language": "python",
   "name": "python3"
  },
  "language_info": {
   "codemirror_mode": {
    "name": "ipython",
    "version": 3
   },
   "file_extension": ".py",
   "mimetype": "text/x-python",
   "name": "python",
   "nbconvert_exporter": "python",
   "pygments_lexer": "ipython3",
   "version": "3.11.6"
  }
 },
 "nbformat": 4,
 "nbformat_minor": 2
}
