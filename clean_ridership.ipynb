{
 "cells": [
  {
   "cell_type": "code",
   "execution_count": 1,
   "metadata": {},
   "outputs": [],
   "source": [
    "from datetime import timedelta\n",
    "import polars as pl\n",
    "import os"
   ]
  },
  {
   "cell_type": "code",
   "execution_count": 2,
   "metadata": {},
   "outputs": [],
   "source": [
    "RAW_DATA_FOLDER = \"raw_data\"\n",
    "STAGING_DATA_FOLDER = \"staging_data\""
   ]
  },
  {
   "cell_type": "code",
   "execution_count": 3,
   "metadata": {},
   "outputs": [],
   "source": [
    "ridership = pl.scan_csv(os.path.join(RAW_DATA_FOLDER, \"Ridership.csv\")).select(\n",
    "    [\n",
    "        \"Date\",\n",
    "        \"Line\",\n",
    "        \"Service\",\n",
    "        \"Direction Number\",\n",
    "        \"From Time\",\n",
    "        \"On\",\n",
    "        \"Off\",\n",
    "        \"Stop Id\",\n",
    "        \"Sequence\",\n",
    "    ]\n",
    ")"
   ]
  },
  {
   "cell_type": "code",
   "execution_count": 4,
   "metadata": {},
   "outputs": [],
   "source": [
    "ridership = ridership.with_columns(\n",
    "    pl.col(\"Date\").str.strptime(pl.Datetime, \"%m/%d/%Y %I:%M:%S %p\").dt.date(),\n",
    "    pl.col(\"Line\").cast(pl.UInt16),\n",
    "    pl.col(\"Service\").cast(pl.UInt8),\n",
    "    pl.col(\"Direction Number\").cast(pl.UInt8),\n",
    "    pl.col(\"From Time\").cast(pl.UInt32),\n",
    "    pl.col(\"On\").cast(pl.Int16),\n",
    "    pl.col(\"Off\").cast(pl.Int16),\n",
    "    pl.col(\"Stop Id\").str.replace_all(\",\", \"\").cast(pl.UInt16),\n",
    "    pl.col(\"Sequence\").cast(pl.UInt8),\n",
    ")\n",
    "ridership = ridership.select(\n",
    "    [\n",
    "        \"Date\",\n",
    "        \"Line\",\n",
    "        \"Service\",\n",
    "        \"Direction Number\",\n",
    "        \"From Time\",\n",
    "        \"Stop Id\",\n",
    "        \"Sequence\",\n",
    "        \"On\",\n",
    "        \"Off\",\n",
    "    ]\n",
    ")"
   ]
  },
  {
   "cell_type": "code",
   "execution_count": 5,
   "metadata": {},
   "outputs": [],
   "source": [
    "ridership = ridership.filter(pl.col(\"On\") >= 0)"
   ]
  },
  {
   "cell_type": "code",
   "execution_count": 6,
   "metadata": {},
   "outputs": [],
   "source": [
    "# ridership = ridership.with_columns(\n",
    "#     pl.when(pl.col(\"From Time\") > 86400)\n",
    "#     .then(pl.col(\"Date\") + timedelta(days=1))\n",
    "#     .otherwise(pl.col(\"Date\"))\n",
    "#     .alias(\"Date\"),\n",
    "#     pl.when(pl.col(\"From Time\") > 86400)\n",
    "#     .then(pl.col(\"From Time\") - 86400)\n",
    "#     .otherwise(pl.col(\"From Time\"))\n",
    "#     .alias(\"From Time\"),\n",
    "# )"
   ]
  },
  {
   "cell_type": "code",
   "execution_count": 7,
   "metadata": {},
   "outputs": [],
   "source": [
    "# ridership = ridership.filter(pl.col(\"Date\").dt.year() < 2018)"
   ]
  },
  {
   "cell_type": "code",
   "execution_count": 8,
   "metadata": {},
   "outputs": [],
   "source": [
    "# ridership = ridership.with_columns(\n",
    "#     pl.when(pl.col(\"Direction\").is_in([\"NORTH\", \"SOUTH\"]))\n",
    "#     .then(1)\n",
    "#     .when(pl.col(\"Direction\").is_in([\"EAST\", \"WEST\"]))\n",
    "#     .then(2)\n",
    "#     .when(pl.col(\"Direction\").is_in([\"NORTHBOUND\", \"SOUTHBOUND\"]))\n",
    "#     .then(3)\n",
    "#     .when(pl.col(\"Direction\").is_in([\"LOOP\", \"REVERSE\"]))\n",
    "#     .then(4)\n",
    "#     .otherwise(0)\n",
    "#     .alias(\"Direction\")\n",
    "# )"
   ]
  },
  {
   "cell_type": "code",
   "execution_count": 9,
   "metadata": {},
   "outputs": [],
   "source": [
    "ridership = ridership.group_by(\n",
    "    [\n",
    "        \"Line\",\n",
    "        \"Service\",\n",
    "        \"Direction Number\",\n",
    "        \"Sequence\",\n",
    "        \"Stop Id\",\n",
    "        \"Date\",\n",
    "    ]\n",
    ").agg([pl.col(\"On\").sum().alias(\"On\"), pl.col(\"Off\").sum().alias(\"Off\")])"
   ]
  },
  {
   "cell_type": "code",
   "execution_count": 10,
   "metadata": {},
   "outputs": [],
   "source": [
    "ridership.collect(streaming=True).write_csv(\n",
    "    os.path.join(STAGING_DATA_FOLDER, \"ridership.csv\")\n",
    ")"
   ]
  }
 ],
 "metadata": {
  "kernelspec": {
   "display_name": "Python 3",
   "language": "python",
   "name": "python3"
  },
  "language_info": {
   "codemirror_mode": {
    "name": "ipython",
    "version": 3
   },
   "file_extension": ".py",
   "mimetype": "text/x-python",
   "name": "python",
   "nbconvert_exporter": "python",
   "pygments_lexer": "ipython3",
   "version": "3.11.6"
  }
 },
 "nbformat": 4,
 "nbformat_minor": 2
}
